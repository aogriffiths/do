{
 "cells": [
  {
   "cell_type": "code",
   "execution_count": 1,
   "metadata": {
    "tags": []
   },
   "outputs": [],
   "source": [
    "def is_notebook() -> bool:\n",
    "    try:\n",
    "        shell = get_ipython().__class__.__name__\n",
    "        if shell == 'ZMQInteractiveShell':\n",
    "            return True   # Jupyter notebook or qtconsole\n",
    "        elif shell == 'TerminalInteractiveShell':\n",
    "            return False  # Terminal running IPython\n",
    "        else:\n",
    "            return False  # Other type (?)\n",
    "    except NameError:\n",
    "        return False      # Probably standard Python interpreter"
   ]
  },
  {
   "cell_type": "code",
   "execution_count": 2,
   "metadata": {
    "tags": []
   },
   "outputs": [],
   "source": [
    "if is_notebook():\n",
    "    import ipyturtle3 as turtle \n",
    "else:\n",
    "    import turtle \n",
    "\n",
    "import math\n",
    "import sys"
   ]
  },
  {
   "cell_type": "code",
   "execution_count": 3,
   "metadata": {},
   "outputs": [],
   "source": [
    "# Config\n",
    "N_POINTS = 7\n",
    "RADIUS = 200"
   ]
  },
  {
   "cell_type": "code",
   "execution_count": 4,
   "metadata": {},
   "outputs": [],
   "source": [
    "# Rainbow Generator (from rainbow.ipynb)\n",
    "import pandas as pd\n",
    "\n",
    "basecolours_data = [\n",
    "    (0.0, 255, 0,   0),   #red    \n",
    "    (1.0, 255, 165, 0),   #orange \n",
    "    (2.0, 255, 255, 0),   #yellow \n",
    "    (3.0, 0,   128, 0),   #green  \n",
    "    (4.0, 0,   0,   255), #blue   \n",
    "    (5.0, 75,  0,   130), #indigo \n",
    "    (6.0, 238, 130, 238)  #violet \n",
    "]\n",
    "\n",
    "def generateRainbowColours(n_colours):\n",
    "    basecolours = pd.DataFrame(basecolours_data, columns = ['position', 'R', 'G', 'B'])\n",
    "    \n",
    "    # multilpe the positions of the base colours to spread them evently across the \n",
    "    # full range of target colours.\n",
    "    basecolours['position'] = basecolours['position'] * (n_colours-1)/6\n",
    "\n",
    "    # add a tag column to show these are base colours\n",
    "    basecolours['base'] = True\n",
    "\n",
    "    # create the full length data frame to hold output colours, positions 0 to n_colours exclusive\n",
    "    outputcolours = pd.DataFrame({'position':range(0,n_colours)}) \n",
    "\n",
    "    # merge the base colours and the, currently empty, output colours. Then index on the position\n",
    "    allcolours = pd.concat([basecolours, outputcolours]).set_index('position')\n",
    "\n",
    "    # The magic is here!\n",
    "    # Use interpolate to fill in the missing colours. Use the index to indicate the \"spacing\"\n",
    "    # between colours.\n",
    "    allcolours = allcolours.interpolate(method='index')\n",
    "\n",
    "    # remove the base colours to get the final output colours\n",
    "    return allcolours[allcolours.base != True].drop('base', axis=1).itertuples(index=False)\n",
    "\n",
    "def generateRainbowColoursList(n_colours):\n",
    "    return list(generateRainbowColours(n_colours))"
   ]
  },
  {
   "cell_type": "code",
   "execution_count": 5,
   "metadata": {
    "tags": []
   },
   "outputs": [],
   "source": [
    "# Mystic Rose Drawing Functions\n",
    "pi = math.pi\n",
    "\n",
    "def distance(i, j, n_points):\n",
    "    return min( abs(i-j), n_points - abs(i-j))\n",
    "\n",
    "def PointsInCircle(r, n=10, start=0):\n",
    "    for i in range(start, n):\n",
    "        yield {\n",
    "            \"i\": i,\n",
    "            \"coords\": (math.cos(2*pi/n*i)*r, math.sin(2*pi/n*i)*r) \n",
    "        }\n",
    "        \n",
    "def decimalColour(t):\n",
    "    return tuple(ti/255 for ti in t)\n",
    "        \n",
    "def uniqueLines(radius, n_points):\n",
    "    lines = []\n",
    "    for pointA in PointsInCircle(radius, n_points):\n",
    "        for pointB in PointsInCircle(radius, n_points, pointA[\"i\"]+1):\n",
    "            lines.append({\n",
    "                \"dist\": distance(pointA[\"i\"], pointB[\"i\"], n_points),\n",
    "                \"from\": pointA,\n",
    "                \"to\": pointB\n",
    "            })\n",
    "    return lines\n",
    "\n",
    "def drawMysticRose(radius, n_points, turtle):\n",
    "    \n",
    "    lines = sorted(uniqueLines(radius, n_points), key=lambda d: - d['dist'])\n",
    "\n",
    "    max_dist = int(lines[0]['dist'])\n",
    "    colours = list(map(decimalColour, generateRainbowColours(max_dist)))\n",
    "    \n",
    "    for line in lines:\n",
    "        if int(line[\"dist\"]) <= len(colours):\n",
    "            turtle.pencolor(colours[line[\"dist\"]-1])\n",
    "        else:\n",
    "            turtle.pencolor(\"black\")\n",
    "            \n",
    "        turtle.penup()\n",
    "        #display(line[\"from\"][\"coords\"])\n",
    "        turtle.goto(line[\"from\"][\"coords\"])\n",
    "        turtle.pendown()\n",
    "        turtle.goto(line[\"to\"][\"coords\"])\n",
    "        turtle.penup()\n",
    "    return len(lines) #same as int(n_points * (n_points-1) / 2)"
   ]
  },
  {
   "cell_type": "code",
   "execution_count": 6,
   "metadata": {
    "tags": []
   },
   "outputs": [],
   "source": [
    "def getNewTurtleAndDisplay():\n",
    "    myTurtle = None\n",
    "    \n",
    "    if is_notebook():\n",
    "        myCanvas = turtle.Canvas(width=RADIUS*2,height=RADIUS*2)\n",
    "        display(myCanvas)\n",
    "        myTurtleScreen = turtle.TurtleScreen(myCanvas)\n",
    "        myTurtleScreen.delay(1)\n",
    "        myTurtle = turtle.Turtle(myTurtleScreen)\n",
    "\n",
    "    else:\n",
    "        wn = turtle.Screen()\n",
    "        wn.tracer(False)\n",
    "\n",
    "    myTurtle.speed(2)\n",
    "    return myTurtle"
   ]
  },
  {
   "cell_type": "code",
   "execution_count": 7,
   "metadata": {
    "tags": []
   },
   "outputs": [
    {
     "data": {
      "application/vnd.jupyter.widget-view+json": {
       "model_id": "330bd088757343d8875d04036b00a3b7",
       "version_major": 2,
       "version_minor": 0
      },
      "text/plain": [
       "Canvas(height=400, width=400)"
      ]
     },
     "metadata": {},
     "output_type": "display_data"
    },
    {
     "data": {
      "text/plain": [
       "'15 lines'"
      ]
     },
     "execution_count": 7,
     "metadata": {},
     "output_type": "execute_result"
    }
   ],
   "source": [
    "myTurtle = getNewTurtleAndDisplay()\n",
    "lines = drawMysticRose(RADIUS, 6, myTurtle)\n",
    "f\"{lines} lines\""
   ]
  },
  {
   "cell_type": "code",
   "execution_count": 8,
   "metadata": {
    "tags": []
   },
   "outputs": [
    {
     "data": {
      "application/vnd.jupyter.widget-view+json": {
       "model_id": "da0dae2cde1b4bce93ebeee1cae91949",
       "version_major": 2,
       "version_minor": 0
      },
      "text/plain": [
       "Canvas(height=400, width=400)"
      ]
     },
     "metadata": {},
     "output_type": "display_data"
    },
    {
     "data": {
      "text/plain": [
       "'21 lines'"
      ]
     },
     "execution_count": 8,
     "metadata": {},
     "output_type": "execute_result"
    }
   ],
   "source": [
    "myTurtle = getNewTurtleAndDisplay()\n",
    "lines = drawMysticRose(RADIUS, 7, myTurtle)\n",
    "f\"{lines} lines\""
   ]
  },
  {
   "cell_type": "code",
   "execution_count": 9,
   "metadata": {},
   "outputs": [
    {
     "data": {
      "application/vnd.jupyter.widget-view+json": {
       "model_id": "c663811da1004ffdad958e91ae0d4966",
       "version_major": 2,
       "version_minor": 0
      },
      "text/plain": [
       "Canvas(height=400, width=400)"
      ]
     },
     "metadata": {},
     "output_type": "display_data"
    },
    {
     "data": {
      "text/plain": [
       "'28 lines'"
      ]
     },
     "execution_count": 9,
     "metadata": {},
     "output_type": "execute_result"
    }
   ],
   "source": [
    "myTurtle = getNewTurtleAndDisplay()\n",
    "lines = drawMysticRose(RADIUS, 8, myTurtle)\n",
    "f\"{lines} lines\""
   ]
  },
  {
   "cell_type": "code",
   "execution_count": 10,
   "metadata": {
    "tags": []
   },
   "outputs": [
    {
     "data": {
      "application/vnd.jupyter.widget-view+json": {
       "model_id": "55e0805ae58f4358bd6dfcbdf918e010",
       "version_major": 2,
       "version_minor": 0
      },
      "text/plain": [
       "Canvas(height=400, width=400)"
      ]
     },
     "metadata": {},
     "output_type": "display_data"
    },
    {
     "data": {
      "text/plain": [
       "'36 lines'"
      ]
     },
     "execution_count": 10,
     "metadata": {},
     "output_type": "execute_result"
    }
   ],
   "source": [
    "myTurtle = getNewTurtleAndDisplay()\n",
    "lines = drawMysticRose(RADIUS, 9, myTurtle)\n",
    "f\"{lines} lines\""
   ]
  },
  {
   "cell_type": "code",
   "execution_count": 11,
   "metadata": {},
   "outputs": [
    {
     "data": {
      "application/vnd.jupyter.widget-view+json": {
       "model_id": "28fc88111920440bb0c0086458250e3a",
       "version_major": 2,
       "version_minor": 0
      },
      "text/plain": [
       "Canvas(height=400, width=400)"
      ]
     },
     "metadata": {},
     "output_type": "display_data"
    },
    {
     "data": {
      "text/plain": [
       "'45 lines'"
      ]
     },
     "execution_count": 11,
     "metadata": {},
     "output_type": "execute_result"
    }
   ],
   "source": [
    "myTurtle = getNewTurtleAndDisplay()\n",
    "lines = drawMysticRose(RADIUS, 10, myTurtle)\n",
    "f\"{lines} lines\""
   ]
  },
  {
   "cell_type": "code",
   "execution_count": 13,
   "metadata": {
    "tags": []
   },
   "outputs": [
    {
     "data": {
      "application/vnd.jupyter.widget-view+json": {
       "model_id": "d332b30e1b9a46f79e0f4212a7f0e172",
       "version_major": 2,
       "version_minor": 0
      },
      "text/plain": [
       "Canvas(height=400, width=400)"
      ]
     },
     "metadata": {},
     "output_type": "display_data"
    },
    {
     "data": {
      "text/plain": [
       "'435 lines'"
      ]
     },
     "execution_count": 13,
     "metadata": {},
     "output_type": "execute_result"
    }
   ],
   "source": [
    "myTurtle = getNewTurtleAndDisplay()\n",
    "lines = drawMysticRose(RADIUS, 30, myTurtle)\n",
    "f\"{lines} lines\""
   ]
  },
  {
   "cell_type": "code",
   "execution_count": 12,
   "metadata": {
    "tags": []
   },
   "outputs": [],
   "source": [
    "# Avoid screen closing\n",
    "if not is_notebook():    \n",
    "    turtle.getscreen()._root.mainloop()  # <-- run the Tkinter main loop"
   ]
  },
  {
   "attachments": {},
   "cell_type": "markdown",
   "metadata": {},
   "source": [
    "NOTE\n",
    "https://github.com/altair-viz/altair/issues/329#issuecomment-473524751"
   ]
  }
 ],
 "metadata": {
  "front_matter": {
   "date": "2023-03-26",
   "description": "Mystic Rose",
   "tags": "maths",
   "title": "Mystic Rose"
  },
  "kernelspec": {
   "display_name": "Python 3 (ipykernel)",
   "language": "python",
   "name": "python3"
  },
  "language_info": {
   "codemirror_mode": {
    "name": "ipython",
    "version": 3
   },
   "file_extension": ".py",
   "mimetype": "text/x-python",
   "name": "python",
   "nbconvert_exporter": "python",
   "pygments_lexer": "ipython3",
   "version": "3.11.3"
  }
 },
 "nbformat": 4,
 "nbformat_minor": 4
}
